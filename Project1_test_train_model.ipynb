{
  "nbformat": 4,
  "nbformat_minor": 0,
  "metadata": {
    "colab": {
      "name": "Project1_test_train_model.ipynb",
      "provenance": [],
      "collapsed_sections": [],
      "authorship_tag": "ABX9TyN/hzYfVwuIAtGsWfL/+anp",
      "include_colab_link": true
    },
    "kernelspec": {
      "name": "python3",
      "display_name": "Python 3"
    }
  },
  "cells": [
    {
      "cell_type": "markdown",
      "metadata": {
        "id": "view-in-github",
        "colab_type": "text"
      },
      "source": [
        "<a href=\"https://colab.research.google.com/github/hazamp01/Machine_Learning/blob/main/Project1_test_train_model.ipynb\" target=\"_parent\"><img src=\"https://colab.research.google.com/assets/colab-badge.svg\" alt=\"Open In Colab\"/></a>"
      ]
    },
    {
      "cell_type": "code",
      "metadata": {
        "id": "duwXwKH8jSUy"
      },
      "source": [
        "# df['earliest_cr_line']=df['earliest_cr_line'].apply(lambda date: int(date[-4:]))\n",
        "# # will get only year"
      ],
      "execution_count": 1,
      "outputs": []
    },
    {
      "cell_type": "code",
      "metadata": {
        "id": "kaBF2b8NkK0o"
      },
      "source": [
        "# Train test spit\n",
        "from sklearn.model_selection import train_test_split"
      ],
      "execution_count": 2,
      "outputs": []
    },
    {
      "cell_type": "code",
      "metadata": {
        "id": "CJMaKIOgkgLA"
      },
      "source": [
        "import pandas as pd\n",
        "import numpy as np\n",
        "import matplotlib.pyplot as plt\n",
        "import seaborn as sns "
      ],
      "execution_count": 3,
      "outputs": []
    },
    {
      "cell_type": "code",
      "metadata": {
        "id": "UhzVkff-kwa9"
      },
      "source": [
        "df=pd.read_csv('/content/sample_data/lending_club_loan_two.csv')"
      ],
      "execution_count": 5,
      "outputs": []
    },
    {
      "cell_type": "code",
      "metadata": {
        "id": "k5OFWt6qk44W"
      },
      "source": [
        "df=df.drop('loan_status',axis=1)"
      ],
      "execution_count": 7,
      "outputs": []
    },
    {
      "cell_type": "code",
      "metadata": {
        "id": "VPjjX538k_OC"
      },
      "source": [
        "X=df.drop('loan_repaid',axis=1).values\n",
        "y=df['loan_repaid'].values"
      ],
      "execution_count": 12,
      "outputs": []
    },
    {
      "cell_type": "code",
      "metadata": {
        "id": "TzOgNW9BlMC8"
      },
      "source": [
        "# print (len(df))"
      ],
      "execution_count": 13,
      "outputs": []
    },
    {
      "cell_type": "code",
      "metadata": {
        "id": "djs1HG_Zl-rh"
      },
      "source": [
        "# X_train, X_test, y_train, y_test = train_test_split(X, y, test_size=0.2, random_state=42)"
      ],
      "execution_count": 14,
      "outputs": []
    },
    {
      "cell_type": "code",
      "metadata": {
        "id": "2jJuzWTJmukr"
      },
      "source": [
        "#Normailize tour data\n",
        " from sklearn.preprocessing import MinMaxScaler\n"
      ],
      "execution_count": 15,
      "outputs": []
    },
    {
      "cell_type": "code",
      "metadata": {
        "id": "Bo3FmbspnKMt"
      },
      "source": [
        "# Create model\n",
        "scaler=MinMaxScaler\n",
        "X_train=scaler.fit_transform(X_train)\n",
        "X_test=scaler.transform(X_test)\n",
        "\n",
        "# add layers depedns on the length and size \n",
        "model=Sequential()\n",
        "model.add(Dense(78,activation='relu'))\n",
        "model.add(Dropout(0.2))\n",
        "\n",
        "model.add(Dense(39,activation='relu'))\n",
        "model.add(Dropout(0.2))\n",
        "\n",
        "model.add(Dense(19,activation='relu'))\n",
        "model.add(Dropout(0.2))\n",
        "\n",
        "model.add(Dense(units=1,activation='sigmoid'))\n",
        "model.compile(loss='bin_cross_entropy',optimizer='adam')\n",
        "\n",
        "# Train model\n",
        "model.fit(x=X_train,y=y_train,epochs=25,batch_size=256,validation_data=(X_test,y_test))\n",
        "\n",
        "\n",
        "#Model Evaluation\n",
        "\n",
        "#model saving\n",
        "from tensorflow.keras.models import load_model\n",
        "model.save('my_fav_model.h5')\n",
        "\n",
        "losses = model.history.history\n",
        "losses\n",
        "losses.plot()\n",
        "# Returns dictionayt of losses\n",
        "\n",
        "#create predictions from the X_test set and display a classification report and confusion matrix for X_test_set\n",
        "from sklearn.metrics import classification_report,confusion_matrix\n",
        "predictions=model.predict_classes(X_test)\n",
        "print (classification_report(y_test,predictions))\n"
      ],
      "execution_count": null,
      "outputs": []
    },
    {
      "cell_type": "code",
      "metadata": {
        "id": "a0ul52TyrxPS"
      },
      "source": [
        "# Given customer below to give loan\n",
        "import random\n",
        "random.seed(101)\n",
        "random_ind=random.randint(0,len(df))\n",
        "new_Customer=df.drop('loan_repaid,axis=1')iloc[random_ind]\n",
        "new_Customer\n",
        "new_Customer.values.reshape(1,78)\n",
        "# scale the data\n",
        "new_customer= scaler.transofrm(new_Customer.values.reshape(1,78))\n",
        "model.predict(new_customer)\n",
        "\n",
        "# Now check did this person acutally end up paying back their loan?\n",
        "df.iloc[randint]['loan_repaid']"
      ],
      "execution_count": null,
      "outputs": []
    },
    {
      "cell_type": "code",
      "metadata": {
        "id": "opYnT_HdrzU4"
      },
      "source": [
        ""
      ],
      "execution_count": null,
      "outputs": []
    }
  ]
}